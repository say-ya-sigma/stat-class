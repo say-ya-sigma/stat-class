{
 "cells": [
  {
   "cell_type": "code",
   "execution_count": 3,
   "metadata": {},
   "outputs": [
    {
     "name": "stdout",
     "output_type": "stream",
     "text": [
      "15.0\n"
     ]
    }
   ],
   "source": [
    "def sigma(initial: int, end: int, func):\n",
    "    result = 0\n",
    "    for i in range(initial, end + 1):\n",
    "        result += func(i)\n",
    "    return result\n",
    "\n",
    "\n",
    "ans = sigma(1, 5, lambda x: x)\n",
    "print(ans)\n",
    "\n",
    "intList = [5, 5, 5, 10, 10, 10, 10, 15, 20, 50]\n",
    "\n",
    "mean = (1 / len(intList)) * sigma(1, 5, lambda x: intList[x])"
   ]
  }
 ],
 "metadata": {
  "interpreter": {
   "hash": "e56932edf40f65687af7716d0ab3b5e741eda4460cbf226d6698ebca141f7e7c"
  },
  "kernelspec": {
   "display_name": "Python 3.10.4 ('.venv': poetry)",
   "language": "python",
   "name": "python3"
  },
  "language_info": {
   "codemirror_mode": {
    "name": "ipython",
    "version": 3
   },
   "file_extension": ".py",
   "mimetype": "text/x-python",
   "name": "python",
   "nbconvert_exporter": "python",
   "pygments_lexer": "ipython3",
   "version": "3.10.4"
  },
  "orig_nbformat": 4
 },
 "nbformat": 4,
 "nbformat_minor": 2
}
