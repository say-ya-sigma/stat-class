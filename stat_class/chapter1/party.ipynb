{
 "cells": [
  {
   "cell_type": "code",
   "execution_count": null,
   "metadata": {},
   "outputs": [],
   "source": [
    "import json\n",
    "\n",
    "with open('partyData.json') as f:\n",
    "    partyData = json.load(f)\n",
    "\n",
    "print(partyData)"
   ]
  }
 ],
 "metadata": {
  "interpreter": {
   "hash": "e56932edf40f65687af7716d0ab3b5e741eda4460cbf226d6698ebca141f7e7c"
  },
  "kernelspec": {
   "display_name": "Python 3.10.4 ('.venv': poetry)",
   "language": "python",
   "name": "python3"
  },
  "language_info": {
   "codemirror_mode": {
    "name": "ipython",
    "version": 3
   },
   "file_extension": ".py",
   "mimetype": "text/x-python",
   "name": "python",
   "nbconvert_exporter": "python",
   "pygments_lexer": "ipython3",
   "version": "3.10.4"
  },
  "orig_nbformat": 4
 },
 "nbformat": 4,
 "nbformat_minor": 2
}
